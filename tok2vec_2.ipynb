{
 "cells": [
  {
   "cell_type": "code",
   "execution_count": 1,
   "id": "4e771145",
   "metadata": {},
   "outputs": [
    {
     "name": "stdout",
     "output_type": "stream",
     "text": [
      "\u001b[38;5;4mℹ Saving to output directory: output\u001b[0m\n",
      "\u001b[38;5;4mℹ Using CPU\u001b[0m\n",
      "\u001b[38;5;4mℹ To switch to GPU 0, use the option: --gpu-id 0\u001b[0m\n",
      "\u001b[1m\n",
      "=========================== Initializing pipeline ===========================\u001b[0m\n",
      "[2022-12-12 18:59:18,248] [INFO] Set up nlp object from config\n",
      "[2022-12-12 18:59:18,254] [INFO] Pipeline: ['tok2vec', 'ner']\n",
      "[2022-12-12 18:59:18,256] [INFO] Created vocabulary\n",
      "[2022-12-12 18:59:18,256] [INFO] Finished initializing nlp object\n",
      "[2022-12-12 18:59:34,008] [INFO] Initialized pipeline components: ['tok2vec', 'ner']\n",
      "\u001b[38;5;2m✔ Initialized pipeline\u001b[0m\n",
      "\u001b[1m\n",
      "============================= Training pipeline =============================\u001b[0m\n",
      "\u001b[38;5;4mℹ Pipeline: ['tok2vec', 'ner']\u001b[0m\n",
      "\u001b[38;5;4mℹ Initial learn rate: 0.0\u001b[0m\n",
      "E    #       LOSS TOK2VEC  LOSS NER  ENTS_F  ENTS_P  ENTS_R  SCORE \n",
      "---  ------  ------------  --------  ------  ------  ------  ------\n",
      "  0       0          0.00    562.09    0.05    0.10    0.03    0.00\n",
      "  2    1000      56041.99  466759.15    9.54   16.93    6.64    0.10\n",
      "  4    2000      67554.86  112914.77   16.23   24.29   12.19    0.16\n",
      "  7    3000      53520.75  101752.39   38.37   46.64   32.60    0.38\n",
      "  9    4000      23183.51  86956.49   43.90   52.58   37.68    0.44\n",
      " 11    5000      24595.44  82008.17   47.07   55.15   41.05    0.47\n",
      " 14    6000      25870.92  77448.78   51.22   56.47   46.86    0.51\n",
      " 16    7000      24946.39  73472.61   53.36   58.89   48.78    0.53\n",
      " 18    8000      17073.53  69875.31   56.84   62.27   52.28    0.57\n",
      " 21    9000      18052.62  67723.68   57.92   62.85   53.70    0.58\n",
      " 23   10000      15971.12  64732.28   59.50   63.70   55.81    0.59\n",
      " 25   11000      23112.62  61960.05   60.95   65.14   57.27    0.61\n",
      " 28   12000      20415.98  60183.37   62.29   65.83   59.11    0.62\n",
      " 30   13000      17780.09  58236.91   62.52   66.21   59.21    0.63\n",
      " 33   14000      17834.36  56776.03   63.17   66.96   59.78    0.63\n",
      " 35   15000      20187.92  56364.41   63.72   67.71   60.17    0.64\n",
      " 37   16000      20251.07  54881.47   64.41   67.79   61.36    0.64\n",
      " 40   17000      19624.89  53713.43   64.42   68.33   60.93    0.64\n",
      " 42   18000      21039.26  52934.19   65.43   69.49   61.82    0.65\n",
      " 44   19000      21172.73  52401.22   65.53   69.10   62.32    0.66\n",
      " 47   20000      22208.72  51403.21   65.45   68.88   62.35    0.65\n",
      " 49   21000      20126.87  50964.09   65.83   69.36   62.65    0.66\n",
      " 51   22000      19858.87  49964.21   66.03   69.47   62.91    0.66\n",
      " 54   23000      21679.61  49965.35   66.20   70.02   62.78    0.66\n",
      " 56   24000      27403.13  49803.91   66.63   70.08   63.51    0.67\n",
      " 58   25000      28563.34  49207.94   66.86   70.27   63.77    0.67\n",
      " 61   26000      22364.12  48822.81   66.88   70.74   63.41    0.67\n",
      " 63   27000      22086.21  48725.34   66.60   70.12   63.41    0.67\n",
      " 66   28000      21217.15  48411.38   66.83   70.23   63.74    0.67\n",
      " 68   29000      22694.36  47943.55   66.92   70.60   63.61    0.67\n",
      " 70   30000      21091.24  48307.76   66.94   70.65   63.61    0.67\n",
      " 73   31000      26994.34  48277.97   66.94   70.65   63.61    0.67\n",
      " 75   32000      22693.72  48213.25   66.94   70.65   63.61    0.67\n",
      " 77   33000      21960.55  48184.08   66.94   70.65   63.61    0.67\n",
      " 80   34000      23313.55  48238.29   66.94   70.65   63.61    0.67\n",
      " 82   35000      21239.32  47983.93   66.94   70.65   63.61    0.67\n",
      "\u001b[38;5;2m✔ Saved pipeline to output directory\u001b[0m\n",
      "output/model-last\n"
     ]
    }
   ],
   "source": [
    "!python -m spacy train tok2vec_config_2.cfg --paths.train ./training/Combined_Data_Judgement_Preamble_spacy_format/train.spacy --output ./output --paths.dev ./training/Combined_Data_Judgement_Preamble_spacy_format/dev.spacy"
   ]
  },
  {
   "cell_type": "code",
   "execution_count": 2,
   "id": "6009fc03",
   "metadata": {},
   "outputs": [
    {
     "data": {
      "text/plain": [
       "'20:14:59 12/12/22 IST'"
      ]
     },
     "execution_count": 2,
     "metadata": {},
     "output_type": "execute_result"
    }
   ],
   "source": [
    "import time\n",
    "time.strftime('%X %x %Z')"
   ]
  },
  {
   "cell_type": "code",
   "execution_count": null,
   "id": "c8224258",
   "metadata": {},
   "outputs": [],
   "source": []
  }
 ],
 "metadata": {
  "kernelspec": {
   "display_name": "Python 3 (ipykernel)",
   "language": "python",
   "name": "python3"
  },
  "language_info": {
   "codemirror_mode": {
    "name": "ipython",
    "version": 3
   },
   "file_extension": ".py",
   "mimetype": "text/x-python",
   "name": "python",
   "nbconvert_exporter": "python",
   "pygments_lexer": "ipython3",
   "version": "3.9.13"
  }
 },
 "nbformat": 4,
 "nbformat_minor": 5
}
