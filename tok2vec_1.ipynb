{
 "cells": [
  {
   "cell_type": "code",
   "execution_count": 2,
   "id": "4e771145",
   "metadata": {},
   "outputs": [
    {
     "name": "stdout",
     "output_type": "stream",
     "text": [
      "\u001b[38;5;2m✔ Created output directory: output\u001b[0m\n",
      "\u001b[38;5;4mℹ Saving to output directory: output\u001b[0m\n",
      "\u001b[38;5;4mℹ Using CPU\u001b[0m\n",
      "\u001b[38;5;4mℹ To switch to GPU 0, use the option: --gpu-id 0\u001b[0m\n",
      "\u001b[1m\n",
      "=========================== Initializing pipeline ===========================\u001b[0m\n",
      "[2022-12-11 18:12:49,393] [INFO] Set up nlp object from config\n",
      "[2022-12-11 18:12:49,399] [INFO] Pipeline: ['tok2vec', 'ner']\n",
      "[2022-12-11 18:12:49,401] [INFO] Created vocabulary\n",
      "[2022-12-11 18:12:49,402] [INFO] Finished initializing nlp object\n",
      "[2022-12-11 18:13:05,563] [INFO] Initialized pipeline components: ['tok2vec', 'ner']\n",
      "\u001b[38;5;2m✔ Initialized pipeline\u001b[0m\n",
      "\u001b[1m\n",
      "============================= Training pipeline =============================\u001b[0m\n",
      "\u001b[38;5;4mℹ Pipeline: ['tok2vec', 'ner']\u001b[0m\n",
      "\u001b[38;5;4mℹ Initial learn rate: 0.0\u001b[0m\n",
      "E    #       LOSS TOK2VEC  LOSS NER  ENTS_F  ENTS_P  ENTS_R  SCORE \n",
      "---  ------  ------------  --------  ------  ------  ------  ------\n",
      "  0       0          0.00    562.09    0.05    0.10    0.03    0.00\n",
      "  2    1000      21120.68  443229.91    9.19   16.28    6.41    0.09\n",
      "  4    2000      18131.65  113114.31   28.32   36.15   23.28    0.28\n",
      "  7    3000      12497.80  92579.75   42.15   50.21   36.33    0.42\n",
      "  9    4000      12231.20  83315.40   47.21   53.09   42.50    0.47\n",
      " 11    5000      14927.00  76912.28   52.24   58.49   47.19    0.52\n",
      " 14    6000      12183.58  70931.91   57.26   62.17   53.07    0.57\n",
      " 16    7000      13465.52  66319.55   59.95   64.98   55.65    0.60\n",
      " 18    8000      13623.76  62241.95   62.35   68.09   57.50    0.62\n",
      " 21    9000      13652.94  59388.68   64.18   68.98   60.01    0.64\n",
      " 23   10000      14603.48  56597.79   64.59   69.06   60.67    0.65\n",
      " 25   11000      15037.56  54048.98   65.56   70.25   61.46    0.66\n",
      " 28   12000      14890.82  52267.17   66.07   69.59   62.88    0.66\n",
      " 30   13000      17776.68  50920.07   66.86   70.84   63.31    0.67\n",
      " 33   14000      17070.81  49080.06   67.02   71.18   63.31    0.67\n",
      " 35   15000      17028.36  48276.77   67.51   71.83   63.67    0.68\n",
      " 37   16000      17617.58  47333.55   68.03   72.09   64.40    0.68\n",
      " 40   17000      18472.98  46383.08   67.82   72.67   63.57    0.68\n",
      " 42   18000      18178.34  45685.82   68.32   72.50   64.60    0.68\n",
      " 44   19000      18417.90  44294.97   68.63   72.70   64.99    0.69\n",
      " 47   20000      20456.67  43968.33   69.09   72.90   65.65    0.69\n",
      " 49   21000      18823.11  43565.80   68.98   73.58   64.93    0.69\n",
      " 51   22000      19211.20  43032.78   69.41   72.98   66.18    0.69\n",
      " 54   23000      19481.96  42647.57   69.65   73.86   65.89    0.70\n",
      " 56   24000      20187.78  42301.60   69.74   73.33   66.48    0.70\n",
      " 58   25000      21235.94  42230.61   69.60   73.42   66.15    0.70\n",
      " 61   26000      20032.25  41380.77   69.71   73.67   66.15    0.70\n",
      " 63   27000      20135.24  41036.21   69.86   73.60   66.48    0.70\n",
      " 66   28000      21737.14  41092.23   70.04   73.77   66.68    0.70\n",
      " 68   29000      19666.56  40729.74   69.99   73.94   66.45    0.70\n",
      " 70   30000      21136.74  40888.88   70.07   73.95   66.58    0.70\n",
      " 73   31000      20451.05  40827.95   70.07   73.95   66.58    0.70\n",
      " 75   32000      19982.57  40652.12   70.07   73.95   66.58    0.70\n",
      " 77   33000      25352.79  40933.10   70.07   73.95   66.58    0.70\n",
      " 80   34000      21092.35  40862.02   70.07   73.95   66.58    0.70\n",
      " 82   35000      21825.63  40775.64   70.07   73.95   66.58    0.70\n",
      "\u001b[38;5;2m✔ Saved pipeline to output directory\u001b[0m\n",
      "output/model-last\n"
     ]
    }
   ],
   "source": [
    "!python -m spacy train tok2vec_config_1.cfg --paths.train ./training/Combined_Data_Judgement_Preamble_spacy_format/train.spacy --output ./output --paths.dev ./training/Combined_Data_Judgement_Preamble_spacy_format/dev.spacy"
   ]
  },
  {
   "cell_type": "code",
   "execution_count": null,
   "id": "6009fc03",
   "metadata": {},
   "outputs": [],
   "source": []
  }
 ],
 "metadata": {
  "kernelspec": {
   "display_name": "Python 3 (ipykernel)",
   "language": "python",
   "name": "python3"
  },
  "language_info": {
   "codemirror_mode": {
    "name": "ipython",
    "version": 3
   },
   "file_extension": ".py",
   "mimetype": "text/x-python",
   "name": "python",
   "nbconvert_exporter": "python",
   "pygments_lexer": "ipython3",
   "version": "3.9.13"
  }
 },
 "nbformat": 4,
 "nbformat_minor": 5
}
